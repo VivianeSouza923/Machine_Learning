{
 "cells": [
  {
   "cell_type": "markdown",
   "id": "b50c977a",
   "metadata": {
    "papermill": {
     "duration": 0.006191,
     "end_time": "2024-08-02T14:43:31.143799",
     "exception": false,
     "start_time": "2024-08-02T14:43:31.137608",
     "status": "completed"
    },
    "tags": []
   },
   "source": [
    "**This notebook is an exercise in the [Introduction to Machine Learning](https://www.kaggle.com/learn/intro-to-machine-learning) course.  You can reference the tutorial at [this link](https://www.kaggle.com/dansbecker/model-validation).**\n",
    "\n",
    "---\n"
   ]
  },
  {
   "cell_type": "markdown",
   "id": "2dae178b",
   "metadata": {
    "papermill": {
     "duration": 0.004086,
     "end_time": "2024-08-02T14:43:31.152661",
     "exception": false,
     "start_time": "2024-08-02T14:43:31.148575",
     "status": "completed"
    },
    "tags": []
   },
   "source": [
    "## Recap\n",
    "You've built a model. In this exercise you will test how good your model is.\n",
    "\n",
    "Run the cell below to set up your coding environment where the previous exercise left off."
   ]
  },
  {
   "cell_type": "code",
   "execution_count": 1,
   "id": "0767d6bd",
   "metadata": {
    "execution": {
     "iopub.execute_input": "2024-08-02T14:43:31.162846Z",
     "iopub.status.busy": "2024-08-02T14:43:31.162466Z",
     "iopub.status.idle": "2024-08-02T14:43:33.315974Z",
     "shell.execute_reply": "2024-08-02T14:43:33.314259Z"
    },
    "papermill": {
     "duration": 2.161453,
     "end_time": "2024-08-02T14:43:33.318400",
     "exception": false,
     "start_time": "2024-08-02T14:43:31.156947",
     "status": "completed"
    },
    "tags": []
   },
   "outputs": [
    {
     "name": "stdout",
     "output_type": "stream",
     "text": [
      "First in-sample predictions: [208500. 181500. 223500. 140000. 250000.]\n",
      "Actual target values for those homes: [208500, 181500, 223500, 140000, 250000]\n",
      "Setup Complete\n"
     ]
    }
   ],
   "source": [
    "# Code you have previously used to load data\n",
    "import pandas as pd\n",
    "from sklearn.tree import DecisionTreeRegressor\n",
    "\n",
    "# Path of the file to read\n",
    "iowa_file_path = '../input/home-data-for-ml-course/train.csv'\n",
    "\n",
    "home_data = pd.read_csv(iowa_file_path)\n",
    "y = home_data.SalePrice\n",
    "feature_columns = ['LotArea', 'YearBuilt', '1stFlrSF', '2ndFlrSF', 'FullBath', 'BedroomAbvGr', 'TotRmsAbvGrd']\n",
    "X = home_data[feature_columns]\n",
    "\n",
    "# Specify Model\n",
    "iowa_model = DecisionTreeRegressor()\n",
    "# Fit Model\n",
    "iowa_model.fit(X, y)\n",
    "\n",
    "print(\"First in-sample predictions:\", iowa_model.predict(X.head()))\n",
    "print(\"Actual target values for those homes:\", y.head().tolist())\n",
    "\n",
    "# Set up code checking\n",
    "from learntools.core import binder\n",
    "binder.bind(globals())\n",
    "from learntools.machine_learning.ex4 import *\n",
    "print(\"Setup Complete\")"
   ]
  },
  {
   "cell_type": "markdown",
   "id": "5c35fa8e",
   "metadata": {
    "papermill": {
     "duration": 0.004163,
     "end_time": "2024-08-02T14:43:33.327144",
     "exception": false,
     "start_time": "2024-08-02T14:43:33.322981",
     "status": "completed"
    },
    "tags": []
   },
   "source": [
    "# Exercises\n",
    "\n",
    "## Step 1: Split Your Data\n",
    "Use the `train_test_split` function to split up your data.\n",
    "\n",
    "Give it the argument `random_state=1` so the `check` functions know what to expect when verifying your code.\n",
    "\n",
    "Recall, your features are loaded in the DataFrame **X** and your target is loaded in **y**.\n"
   ]
  },
  {
   "cell_type": "code",
   "execution_count": 2,
   "id": "fc509871",
   "metadata": {
    "execution": {
     "iopub.execute_input": "2024-08-02T14:43:33.338065Z",
     "iopub.status.busy": "2024-08-02T14:43:33.337419Z",
     "iopub.status.idle": "2024-08-02T14:43:33.430220Z",
     "shell.execute_reply": "2024-08-02T14:43:33.429145Z"
    },
    "papermill": {
     "duration": 0.100557,
     "end_time": "2024-08-02T14:43:33.432318",
     "exception": false,
     "start_time": "2024-08-02T14:43:33.331761",
     "status": "completed"
    },
    "tags": []
   },
   "outputs": [
    {
     "data": {
      "application/javascript": [
       "parent.postMessage({\"jupyterEvent\": \"custom.exercise_interaction\", \"data\": {\"outcomeType\": 1, \"valueTowardsCompletion\": 0.25, \"interactionType\": 1, \"questionType\": 2, \"questionId\": \"1_SplitData\", \"learnToolsVersion\": \"0.3.4\", \"failureMessage\": \"\", \"exceptionClass\": \"\", \"trace\": \"\"}}, \"*\")"
      ],
      "text/plain": [
       "<IPython.core.display.Javascript object>"
      ]
     },
     "metadata": {},
     "output_type": "display_data"
    },
    {
     "data": {
      "text/markdown": [
       "<span style=\"color:#33cc33\">Correct</span>"
      ],
      "text/plain": [
       "Correct"
      ]
     },
     "metadata": {},
     "output_type": "display_data"
    }
   ],
   "source": [
    "# Import the train_test_split function and uncomment\n",
    "from sklearn.model_selection import train_test_split \n",
    "# o import acima é \n",
    "\n",
    "# fill in and uncomment\n",
    "train_X, val_X, train_y, val_y = train_test_split(X, y, random_state=1)\n",
    "\n",
    "# Check your answer\n",
    "step_1.check()"
   ]
  },
  {
   "cell_type": "code",
   "execution_count": 3,
   "id": "0107cf64",
   "metadata": {
    "execution": {
     "iopub.execute_input": "2024-08-02T14:43:33.444458Z",
     "iopub.status.busy": "2024-08-02T14:43:33.443442Z",
     "iopub.status.idle": "2024-08-02T14:43:33.451768Z",
     "shell.execute_reply": "2024-08-02T14:43:33.450669Z"
    },
    "papermill": {
     "duration": 0.016982,
     "end_time": "2024-08-02T14:43:33.454024",
     "exception": false,
     "start_time": "2024-08-02T14:43:33.437042",
     "status": "completed"
    },
    "tags": []
   },
   "outputs": [
    {
     "data": {
      "application/javascript": [
       "parent.postMessage({\"jupyterEvent\": \"custom.exercise_interaction\", \"data\": {\"interactionType\": 2, \"questionType\": 2, \"questionId\": \"1_SplitData\", \"learnToolsVersion\": \"0.3.4\", \"valueTowardsCompletion\": 0.0, \"failureMessage\": \"\", \"exceptionClass\": \"\", \"trace\": \"\", \"outcomeType\": 4}}, \"*\")"
      ],
      "text/plain": [
       "<IPython.core.display.Javascript object>"
      ]
     },
     "metadata": {},
     "output_type": "display_data"
    },
    {
     "data": {
      "text/markdown": [
       "<span style=\"color:#3366cc\">Hint:</span> The function you need to import is part of sklearn. When calling the function, the arguments are X and y. Ensure you set the random_state to 1."
      ],
      "text/plain": [
       "Hint: The function you need to import is part of sklearn. When calling the function, the arguments are X and y. Ensure you set the random_state to 1."
      ]
     },
     "metadata": {},
     "output_type": "display_data"
    }
   ],
   "source": [
    "# The lines below will show you a hint or the solution.\n",
    "step_1.hint() \n",
    "# step_1.solution()\n"
   ]
  },
  {
   "cell_type": "markdown",
   "id": "d3c8d728",
   "metadata": {
    "papermill": {
     "duration": 0.004711,
     "end_time": "2024-08-02T14:43:33.463752",
     "exception": false,
     "start_time": "2024-08-02T14:43:33.459041",
     "status": "completed"
    },
    "tags": []
   },
   "source": [
    "## Step 2: Specify and Fit the Model\n",
    "\n",
    "Create a `DecisionTreeRegressor` model and fit it to the relevant data.\n",
    "Set `random_state` to 1 again when creating the model."
   ]
  },
  {
   "cell_type": "code",
   "execution_count": 4,
   "id": "b59af375",
   "metadata": {
    "execution": {
     "iopub.execute_input": "2024-08-02T14:43:33.476042Z",
     "iopub.status.busy": "2024-08-02T14:43:33.475649Z",
     "iopub.status.idle": "2024-08-02T14:43:33.503325Z",
     "shell.execute_reply": "2024-08-02T14:43:33.502289Z"
    },
    "papermill": {
     "duration": 0.036301,
     "end_time": "2024-08-02T14:43:33.505703",
     "exception": false,
     "start_time": "2024-08-02T14:43:33.469402",
     "status": "completed"
    },
    "tags": []
   },
   "outputs": [
    {
     "name": "stdout",
     "output_type": "stream",
     "text": [
      "[186500. 184000. 130000.  92000. 164500. 220000. 335000. 144152. 215000.\n",
      " 262000.]\n",
      "[186500. 184000. 130000.  92000. 164500. 220000. 335000. 144152. 215000.\n",
      " 262000.]\n"
     ]
    },
    {
     "data": {
      "application/javascript": [
       "parent.postMessage({\"jupyterEvent\": \"custom.exercise_interaction\", \"data\": {\"outcomeType\": 1, \"valueTowardsCompletion\": 0.25, \"interactionType\": 1, \"questionType\": 2, \"questionId\": \"2_FitModelWithTrain\", \"learnToolsVersion\": \"0.3.4\", \"failureMessage\": \"\", \"exceptionClass\": \"\", \"trace\": \"\"}}, \"*\")"
      ],
      "text/plain": [
       "<IPython.core.display.Javascript object>"
      ]
     },
     "metadata": {},
     "output_type": "display_data"
    },
    {
     "data": {
      "text/markdown": [
       "<span style=\"color:#33cc33\">Correct</span>"
      ],
      "text/plain": [
       "Correct"
      ]
     },
     "metadata": {},
     "output_type": "display_data"
    }
   ],
   "source": [
    "# You imported DecisionTreeRegressor in your last exercise\n",
    "# and that code has been copied to the setup code above. So, no need to\n",
    "# import it again\n",
    "\n",
    "# Specify the model\n",
    "iowa_model = DecisionTreeRegressor(random_state=1)\n",
    "\n",
    "# Fit iowa_model with the training data.\n",
    "iowa_model.fit(train_X, train_y)\n",
    "\n",
    "# Check your answer\n",
    "step_2.check()"
   ]
  },
  {
   "cell_type": "code",
   "execution_count": 5,
   "id": "b120e8c6",
   "metadata": {
    "execution": {
     "iopub.execute_input": "2024-08-02T14:43:33.518151Z",
     "iopub.status.busy": "2024-08-02T14:43:33.517799Z",
     "iopub.status.idle": "2024-08-02T14:43:33.522421Z",
     "shell.execute_reply": "2024-08-02T14:43:33.521281Z"
    },
    "papermill": {
     "duration": 0.013684,
     "end_time": "2024-08-02T14:43:33.524727",
     "exception": false,
     "start_time": "2024-08-02T14:43:33.511043",
     "status": "completed"
    },
    "tags": []
   },
   "outputs": [],
   "source": [
    "# step_2.hint()\n",
    "# step_2.solution()"
   ]
  },
  {
   "cell_type": "markdown",
   "id": "2a123bad",
   "metadata": {
    "papermill": {
     "duration": 0.005511,
     "end_time": "2024-08-02T14:43:33.535602",
     "exception": false,
     "start_time": "2024-08-02T14:43:33.530091",
     "status": "completed"
    },
    "tags": []
   },
   "source": [
    "## Step 3: Make Predictions with Validation data\n"
   ]
  },
  {
   "cell_type": "code",
   "execution_count": 6,
   "id": "7dd9a28b",
   "metadata": {
    "execution": {
     "iopub.execute_input": "2024-08-02T14:43:33.548269Z",
     "iopub.status.busy": "2024-08-02T14:43:33.547870Z",
     "iopub.status.idle": "2024-08-02T14:43:33.560226Z",
     "shell.execute_reply": "2024-08-02T14:43:33.559066Z"
    },
    "papermill": {
     "duration": 0.021357,
     "end_time": "2024-08-02T14:43:33.562574",
     "exception": false,
     "start_time": "2024-08-02T14:43:33.541217",
     "status": "completed"
    },
    "tags": []
   },
   "outputs": [
    {
     "data": {
      "application/javascript": [
       "parent.postMessage({\"jupyterEvent\": \"custom.exercise_interaction\", \"data\": {\"outcomeType\": 1, \"valueTowardsCompletion\": 0.25, \"interactionType\": 1, \"questionType\": 2, \"questionId\": \"3_ValPreds\", \"learnToolsVersion\": \"0.3.4\", \"failureMessage\": \"\", \"exceptionClass\": \"\", \"trace\": \"\"}}, \"*\")"
      ],
      "text/plain": [
       "<IPython.core.display.Javascript object>"
      ]
     },
     "metadata": {},
     "output_type": "display_data"
    },
    {
     "data": {
      "text/markdown": [
       "<span style=\"color:#33cc33\">Correct</span>"
      ],
      "text/plain": [
       "Correct"
      ]
     },
     "metadata": {},
     "output_type": "display_data"
    }
   ],
   "source": [
    "# Predict with all validation observations\n",
    "val_predictions = iowa_model.predict(val_X)\n",
    "\n",
    "# Check your answer\n",
    "step_3.check()"
   ]
  },
  {
   "cell_type": "code",
   "execution_count": 7,
   "id": "ade0f11e",
   "metadata": {
    "execution": {
     "iopub.execute_input": "2024-08-02T14:43:33.575442Z",
     "iopub.status.busy": "2024-08-02T14:43:33.575046Z",
     "iopub.status.idle": "2024-08-02T14:43:33.579300Z",
     "shell.execute_reply": "2024-08-02T14:43:33.578258Z"
    },
    "papermill": {
     "duration": 0.013348,
     "end_time": "2024-08-02T14:43:33.581470",
     "exception": false,
     "start_time": "2024-08-02T14:43:33.568122",
     "status": "completed"
    },
    "tags": []
   },
   "outputs": [],
   "source": [
    "# step_3.hint()\n",
    "# step_3.solution()"
   ]
  },
  {
   "cell_type": "markdown",
   "id": "1a592ba5",
   "metadata": {
    "papermill": {
     "duration": 0.005329,
     "end_time": "2024-08-02T14:43:33.592442",
     "exception": false,
     "start_time": "2024-08-02T14:43:33.587113",
     "status": "completed"
    },
    "tags": []
   },
   "source": [
    "Inspect your predictions and actual values from validation data."
   ]
  },
  {
   "cell_type": "code",
   "execution_count": 8,
   "id": "33ab0dcd",
   "metadata": {
    "execution": {
     "iopub.execute_input": "2024-08-02T14:43:33.605757Z",
     "iopub.status.busy": "2024-08-02T14:43:33.605001Z",
     "iopub.status.idle": "2024-08-02T14:43:33.611305Z",
     "shell.execute_reply": "2024-08-02T14:43:33.610232Z"
    },
    "papermill": {
     "duration": 0.015783,
     "end_time": "2024-08-02T14:43:33.613774",
     "exception": false,
     "start_time": "2024-08-02T14:43:33.597991",
     "status": "completed"
    },
    "tags": []
   },
   "outputs": [
    {
     "name": "stdout",
     "output_type": "stream",
     "text": [
      "[186500. 184000. 130000.  92000. 164500.]\n",
      "258     231500\n",
      "267     179500\n",
      "288     122000\n",
      "649      84500\n",
      "1233    142000\n",
      "Name: SalePrice, dtype: int64\n"
     ]
    }
   ],
   "source": [
    "# print the top few validation predictions\n",
    "print(val_predictions[:5])\n",
    "# print the top few actual prices from validation data\n",
    "print(val_y[:5])"
   ]
  },
  {
   "cell_type": "markdown",
   "id": "af045aa2",
   "metadata": {
    "papermill": {
     "duration": 0.005444,
     "end_time": "2024-08-02T14:43:33.624936",
     "exception": false,
     "start_time": "2024-08-02T14:43:33.619492",
     "status": "completed"
    },
    "tags": []
   },
   "source": [
    "What do you notice that is different from what you saw with in-sample predictions (which are printed after the top code cell in this page).\n",
    "\n",
    "Do you remember why validation predictions differ from in-sample (or training) predictions? This is an important idea from the last lesson.\n",
    "\n",
    "## Step 4: Calculate the Mean Absolute Error in Validation Data\n"
   ]
  },
  {
   "cell_type": "code",
   "execution_count": 9,
   "id": "6d22d323",
   "metadata": {
    "execution": {
     "iopub.execute_input": "2024-08-02T14:43:33.637859Z",
     "iopub.status.busy": "2024-08-02T14:43:33.637463Z",
     "iopub.status.idle": "2024-08-02T14:43:33.648080Z",
     "shell.execute_reply": "2024-08-02T14:43:33.647116Z"
    },
    "papermill": {
     "duration": 0.020139,
     "end_time": "2024-08-02T14:43:33.650709",
     "exception": false,
     "start_time": "2024-08-02T14:43:33.630570",
     "status": "completed"
    },
    "tags": []
   },
   "outputs": [
    {
     "name": "stdout",
     "output_type": "stream",
     "text": [
      "29652.931506849316\n"
     ]
    },
    {
     "data": {
      "application/javascript": [
       "parent.postMessage({\"jupyterEvent\": \"custom.exercise_interaction\", \"data\": {\"outcomeType\": 1, \"valueTowardsCompletion\": 0.25, \"interactionType\": 1, \"questionType\": 1, \"questionId\": \"4_MAE\", \"learnToolsVersion\": \"0.3.4\", \"failureMessage\": \"\", \"exceptionClass\": \"\", \"trace\": \"\"}}, \"*\")"
      ],
      "text/plain": [
       "<IPython.core.display.Javascript object>"
      ]
     },
     "metadata": {},
     "output_type": "display_data"
    },
    {
     "data": {
      "text/markdown": [
       "<span style=\"color:#33cc33\">Correct</span>"
      ],
      "text/plain": [
       "Correct"
      ]
     },
     "metadata": {},
     "output_type": "display_data"
    }
   ],
   "source": [
    "from sklearn.metrics import mean_absolute_error\n",
    "val_mae = mean_absolute_error(val_y, val_predictions)\n",
    "\n",
    "# uncomment following line to see the validation_mae\n",
    "print(val_mae)\n",
    "\n",
    "# Check your answer\n",
    "step_4.check()"
   ]
  },
  {
   "cell_type": "code",
   "execution_count": 10,
   "id": "0ac49801",
   "metadata": {
    "execution": {
     "iopub.execute_input": "2024-08-02T14:43:33.664441Z",
     "iopub.status.busy": "2024-08-02T14:43:33.663553Z",
     "iopub.status.idle": "2024-08-02T14:43:33.668140Z",
     "shell.execute_reply": "2024-08-02T14:43:33.666904Z"
    },
    "papermill": {
     "duration": 0.013781,
     "end_time": "2024-08-02T14:43:33.670345",
     "exception": false,
     "start_time": "2024-08-02T14:43:33.656564",
     "status": "completed"
    },
    "tags": []
   },
   "outputs": [],
   "source": [
    "# step_4.hint()\n",
    "# step_4.solution()"
   ]
  },
  {
   "cell_type": "markdown",
   "id": "172ebde7",
   "metadata": {
    "papermill": {
     "duration": 0.005861,
     "end_time": "2024-08-02T14:43:33.683151",
     "exception": false,
     "start_time": "2024-08-02T14:43:33.677290",
     "status": "completed"
    },
    "tags": []
   },
   "source": [
    "Is that MAE good?  There isn't a general rule for what values are good that applies across applications. But you'll see how to use (and improve) this number in the next step.\n",
    "\n",
    "# Keep Going\n",
    "\n",
    "You are ready for **[Underfitting and Overfitting](https://www.kaggle.com/dansbecker/underfitting-and-overfitting).**\n"
   ]
  },
  {
   "cell_type": "markdown",
   "id": "f053646a",
   "metadata": {
    "papermill": {
     "duration": 0.005712,
     "end_time": "2024-08-02T14:43:33.694980",
     "exception": false,
     "start_time": "2024-08-02T14:43:33.689268",
     "status": "completed"
    },
    "tags": []
   },
   "source": [
    "---\n",
    "\n",
    "\n",
    "\n",
    "\n",
    "*Have questions or comments? Visit the [course discussion forum](https://www.kaggle.com/learn/intro-to-machine-learning/discussion) to chat with other learners.*"
   ]
  }
 ],
 "metadata": {
  "kaggle": {
   "accelerator": "none",
   "dataSources": [
    {
     "databundleVersionId": 111096,
     "sourceId": 10211,
     "sourceType": "competition"
    },
    {
     "datasetId": 11167,
     "sourceId": 15520,
     "sourceType": "datasetVersion"
    },
    {
     "datasetId": 2709,
     "sourceId": 38454,
     "sourceType": "datasetVersion"
    }
   ],
   "isGpuEnabled": false,
   "isInternetEnabled": false,
   "language": "python",
   "sourceType": "notebook"
  },
  "kernelspec": {
   "display_name": "Python 3",
   "language": "python",
   "name": "python3"
  },
  "language_info": {
   "codemirror_mode": {
    "name": "ipython",
    "version": 3
   },
   "file_extension": ".py",
   "mimetype": "text/x-python",
   "name": "python",
   "nbconvert_exporter": "python",
   "pygments_lexer": "ipython3",
   "version": "3.10.13"
  },
  "papermill": {
   "default_parameters": {},
   "duration": 5.828291,
   "end_time": "2024-08-02T14:43:34.322546",
   "environment_variables": {},
   "exception": null,
   "input_path": "__notebook__.ipynb",
   "output_path": "__notebook__.ipynb",
   "parameters": {},
   "start_time": "2024-08-02T14:43:28.494255",
   "version": "2.5.0"
  }
 },
 "nbformat": 4,
 "nbformat_minor": 5
}
